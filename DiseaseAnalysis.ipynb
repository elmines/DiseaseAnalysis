{
 "cells": [
  {
   "cell_type": "markdown",
   "metadata": {},
   "source": [
    "# Disease Analysis\n",
    "Analyze data from the National Notifiable Diseases Surveillance System on [deaths by pneumonia and influenza](https://www.healthdata.gov/dataset/nndss-table-ii-invasive-pneumococcal-diseases-all-ages) in 122 cities."
   ]
  },
  {
   "cell_type": "code",
   "execution_count": 13,
   "metadata": {
    "collapsed": true
   },
   "outputs": [],
   "source": [
    "import numpy as np\n",
    "from scipy import stats\n",
    "import cntk as C"
   ]
  },
  {
   "cell_type": "code",
   "execution_count": 14,
   "metadata": {
    "collapsed": true
   },
   "outputs": [],
   "source": [
    "dataPath = \"source.csv\"\n",
    "data = np.genfromtxt(dataPath, delimiter = \",\", dtype = str)"
   ]
  },
  {
   "cell_type": "code",
   "execution_count": 62,
   "metadata": {
    "collapsed": false
   },
   "outputs": [
    {
     "name": "stdout",
     "output_type": "stream",
     "text": [
      "['11' '11' '5' ..., '2' '12' '11']\n"
     ]
    }
   ],
   "source": [
    "deaths = data[1:, 6]\n",
    "print(deaths)\n",
    "\n",
    "non_blanks = []\n",
    "for i in range(len(deaths)):\n",
    "    if deaths[i] != \"\":\n",
    "        non_blanks.append(i)\n",
    "        \n",
    "deaths = deaths[non_blanks].astype(np.float32)\n",
    "years = stats.zscore( (data[1:, 0])[non_blanks].astype(np.float32))\n",
    "winter = np.asarray( [1.0 if (week < 7 or 47 < week) else 0.0 for week in data[1:, 1].astype(int)], dtype = np.float32 )\n",
    "winter = winter[non_blanks]"
   ]
  },
  {
   "cell_type": "code",
   "execution_count": 63,
   "metadata": {
    "collapsed": true
   },
   "outputs": [],
   "source": [
    "def shuffle_arrays(*arrays):\n",
    "    rand_state = np.random.get_state()\n",
    "    for array in arrays:\n",
    "        np.random.set_state(rand_state)\n",
    "        np.random.shuffle(array)\n",
    "\n",
    "shuffle_arrays(years, winter, deaths)"
   ]
  },
  {
   "cell_type": "code",
   "execution_count": 64,
   "metadata": {
    "collapsed": true
   },
   "outputs": [],
   "source": [
    "num_samples = len(years)\n",
    "training_size = num_samples * 2 // 3;\n"
   ]
  },
  {
   "cell_type": "code",
   "execution_count": 65,
   "metadata": {
    "collapsed": true
   },
   "outputs": [],
   "source": [
    "num_features = 2\n",
    "num_classes = 1 #Do I even need this, since this is a regression problem?\n",
    "input_var = C.input_variable(num_features, np.float32)"
   ]
  },
  {
   "cell_type": "code",
   "execution_count": 66,
   "metadata": {
    "collapsed": true
   },
   "outputs": [],
   "source": [
    "parm_dict = {}\n",
    "def linear_layer(input_var, num_output_classes):\n",
    "    \n",
    "    weights = C.parameter(shape = (input_var.shape[0], num_output_classes))\n",
    "    biases = C.parameter(shape = (num_output_classes))\n",
    "    \n",
    "    return C.times(input_var, weights) + biases"
   ]
  },
  {
   "cell_type": "code",
   "execution_count": 67,
   "metadata": {
    "collapsed": true
   },
   "outputs": [],
   "source": [
    "z = linear_layer(input_var, num_classes)\n",
    "label = C.input_variable((num_classes), np.float32)\n",
    "loss = C.squared_error(z, label)\n",
    "#eval_error = C.squared_error(z, label)"
   ]
  },
  {
   "cell_type": "code",
   "execution_count": 68,
   "metadata": {
    "collapsed": true
   },
   "outputs": [],
   "source": [
    "learning_rate = 0.5\n",
    "minibatch_size = 25\n",
    "num_training_minibatches = training_size // minibatch_size\n",
    "\n",
    "lr_schedule = C.learning_rate_schedule(learning_rate, C.UnitType.minibatch)\n",
    "learner = C.sgd(z.parameters, lr_schedule)\n",
    "\n",
    "trainer = C.Trainer(z, (loss), [learner])"
   ]
  },
  {
   "cell_type": "code",
   "execution_count": 69,
   "metadata": {
    "collapsed": false
   },
   "outputs": [],
   "source": [
    "features = np.column_stack((years, winter))\n",
    "training_features = features[:training_size]\n",
    "training_labels = deaths[:training_size].reshape((training_size, 1))\n"
   ]
  },
  {
   "cell_type": "code",
   "execution_count": 70,
   "metadata": {
    "collapsed": true
   },
   "outputs": [],
   "source": [
    "def moving_average(array):\n",
    "    return [np.cumsum(array) / (i + 1) for i in len(array)]\n",
    "\n",
    "def print_progress(trainer, mb_num, frequency):\n",
    "    loss = \"NA\"\n",
    "    if mb_num % frequency == 0:\n",
    "        loss = trainer.previous_minibatch_loss_average\n",
    "        print(\"Minibatch {0}: Loss = {1:4f}\".format(mb_num, loss))\n",
    "    return mb_num, loss"
   ]
  },
  {
   "cell_type": "code",
   "execution_count": 71,
   "metadata": {
    "collapsed": false
   },
   "outputs": [
    {
     "name": "stdout",
     "output_type": "stream",
     "text": [
      "Minibatch 0: Loss = 197.080000\n",
      "Minibatch 500: Loss = 57.642559\n",
      "Minibatch 1000: Loss = 73.261353\n",
      "Minibatch 1500: Loss = 17.741641\n",
      "Minibatch 2000: Loss = 64.167891\n",
      "Minibatch 2500: Loss = 78.782280\n",
      "Minibatch 3000: Loss = 64.366938\n",
      "Minibatch 3500: Loss = 18.921396\n",
      "Minibatch 4000: Loss = 18.993368\n",
      "Minibatch 4500: Loss = 44.087241\n",
      "Minibatch 5000: Loss = 14.683348\n",
      "Minibatch 5500: Loss = 94.861162\n",
      "Minibatch 6000: Loss = 28.850076\n",
      "Minibatch 6500: Loss = 53.171563\n",
      "Minibatch 7000: Loss = 59.159995\n",
      "Minibatch 7500: Loss = 236.844531\n",
      "Minibatch 8000: Loss = 31.763760\n",
      "Minibatch 8500: Loss = 109.542910\n",
      "Minibatch 9000: Loss = 70.104346\n"
     ]
    }
   ],
   "source": [
    "from collections import defaultdict\n",
    "\n",
    "progress_output_freq = 500\n",
    "plotdata = defaultdict(list)\n",
    "\n",
    "for i in range(num_training_minibatches):\n",
    "    start_index = i * minibatch_size\n",
    "    end_index = start_index + minibatch_size\n",
    "    feature_batch = training_features[start_index : end_index]\n",
    "    label_batch = training_labels[start_index : end_index]\n",
    "    trainer.train_minibatch({input_var : feature_batch, label : label_batch})\n",
    "    \n",
    "\n",
    "    mb_num, loss = print_progress(trainer, i, progress_output_freq)\n",
    "    if loss != \"NA\":\n",
    "        plotdata[\"Batch Number\"].append(mb_num)\n",
    "        plotdata[\"Loss\"].append(loss)\n"
   ]
  },
  {
   "cell_type": "code",
   "execution_count": null,
   "metadata": {
    "collapsed": false
   },
   "outputs": [],
   "source": []
  },
  {
   "cell_type": "code",
   "execution_count": null,
   "metadata": {
    "collapsed": false
   },
   "outputs": [],
   "source": []
  },
  {
   "cell_type": "code",
   "execution_count": null,
   "metadata": {
    "collapsed": true
   },
   "outputs": [],
   "source": []
  }
 ],
 "metadata": {
  "kernelspec": {
   "display_name": "Python [Root]",
   "language": "python",
   "name": "Python [Root]"
  },
  "language_info": {
   "codemirror_mode": {
    "name": "ipython",
    "version": 3
   },
   "file_extension": ".py",
   "mimetype": "text/x-python",
   "name": "python",
   "nbconvert_exporter": "python",
   "pygments_lexer": "ipython3",
   "version": "3.5.2"
  }
 },
 "nbformat": 4,
 "nbformat_minor": 1
}
