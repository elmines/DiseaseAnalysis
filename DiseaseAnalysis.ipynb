{
 "cells": [
  {
   "cell_type": "markdown",
   "metadata": {},
   "source": [
    "# Disease Analysis\n",
    "Analyze data from the National Notifiable Diseases Surveillance System on [deaths by pneumonia and influenza](https://www.healthdata.gov/dataset/nndss-table-ii-invasive-pneumococcal-diseases-all-ages) in 122 cities."
   ]
  },
  {
   "cell_type": "code",
   "execution_count": 176,
   "metadata": {
    "collapsed": true
   },
   "outputs": [],
   "source": [
    "import numpy as np\n",
    "from scipy import stats\n",
    "import cntk as C"
   ]
  },
  {
   "cell_type": "code",
   "execution_count": 177,
   "metadata": {
    "collapsed": true
   },
   "outputs": [],
   "source": [
    "dataPath = \"source.csv\"\n",
    "data = np.genfromtxt(dataPath, delimiter = \",\", dtype = str)"
   ]
  },
  {
   "cell_type": "code",
   "execution_count": 178,
   "metadata": {
    "collapsed": true
   },
   "outputs": [],
   "source": [
    "deaths = data[1:, 6]\n",
    "\n",
    "non_blanks = []\n",
    "for i in range(len(deaths)):\n",
    "    if deaths[i] != \"\":\n",
    "        non_blanks.append(i)        \n",
    "deaths = deaths[non_blanks].astype(np.float32)\n",
    "\n",
    "years = stats.zscore( (data[1:, 0])[non_blanks].astype(np.float32))\n",
    "\n",
    "winter = np.asarray( [1.0 if (week < 7 or 47 < week) else 0.0 for week in data[1:, 1].astype(int)], dtype = np.float32 )\n",
    "winter = winter[non_blanks]\n",
    "\n",
    "features = np.column_stack((years, winter))\n",
    "labels = deaths.reshape((len(deaths), 1))"
   ]
  },
  {
   "cell_type": "code",
   "execution_count": 179,
   "metadata": {
    "collapsed": true
   },
   "outputs": [],
   "source": [
    "np.random.seed(0)\n",
    "def shuffle_arrays(*arrays):\n",
    "    rand_state = np.random.get_state()\n",
    "    for array in arrays:\n",
    "        np.random.set_state(rand_state)\n",
    "        np.random.shuffle(array)\n",
    "\n",
    "shuffle_arrays(features, labels)\n",
    "#print(features[:5])\n",
    "#print(labels[:5])"
   ]
  },
  {
   "cell_type": "code",
   "execution_count": 180,
   "metadata": {
    "collapsed": true
   },
   "outputs": [],
   "source": [
    "parm_dict = {}\n",
    "def linear_layer(input_var, num_output_classes):\n",
    "    weights = C.parameter(shape = (input_var.shape[0], num_output_classes))\n",
    "    biases = C.parameter(shape = (num_output_classes))\n",
    "    return C.times(input_var, weights) + biases"
   ]
  },
  {
   "cell_type": "code",
   "execution_count": 181,
   "metadata": {
    "collapsed": true
   },
   "outputs": [],
   "source": [
    "num_features = 2\n",
    "num_classes = 1\n",
    "\n",
    "#Callback variables\n",
    "input_var = C.input_variable(num_features, np.float32)\n",
    "label = C.input_variable((num_classes), np.float32)\n",
    "z = linear_layer(input_var, num_classes)\n",
    "loss = C.squared_error(z, label)\n",
    "eval_error = C.squared_error(z, label)"
   ]
  },
  {
   "cell_type": "code",
   "execution_count": 182,
   "metadata": {
    "collapsed": true
   },
   "outputs": [],
   "source": [
    "num_samples = len(years)\n",
    "training_size = num_samples * 2 // 3;\n",
    "minibatch_size = 25\n",
    "num_training_minibatches = training_size // minibatch_size\n",
    "learning_rate = 0.5\n",
    "\n",
    "lr_schedule = C.learning_rate_schedule(learning_rate, C.UnitType.minibatch)\n",
    "learner = C.sgd(z.parameters, lr_schedule)\n",
    "trainer = C.Trainer(z, (loss, eval_error), [learner])"
   ]
  },
  {
   "cell_type": "code",
   "execution_count": 183,
   "metadata": {
    "collapsed": true
   },
   "outputs": [],
   "source": [
    "def moving_average(loss_list):\n",
    "    averages = np.cumsum(np.asarray(loss_list))\n",
    "    for i in range(len(averages)):\n",
    "        averages[i] = averages[i] / (i + 1)\n",
    "    return averages\n",
    "\n",
    "def print_progress(trainer, mb_num, frequency, display = True):\n",
    "    loss = \"NA\"\n",
    "    if mb_num % frequency == 0:\n",
    "        loss = trainer.previous_minibatch_loss_average\n",
    "        if display:\n",
    "            print(\"Minibatch {0}: Average Loss = {1:.4f}\".format(mb_num, loss))\n",
    "    return mb_num, loss"
   ]
  },
  {
   "cell_type": "code",
   "execution_count": 184,
   "metadata": {},
   "outputs": [
    {
     "name": "stdout",
     "output_type": "stream",
     "text": [
      "Minibatch 0: Average Loss = 284.7200\n",
      "Minibatch 500: Average Loss = 50.8294\n",
      "Minibatch 1000: Average Loss = 39.2316\n",
      "Minibatch 1500: Average Loss = 12.0060\n",
      "Minibatch 2000: Average Loss = 121.9783\n",
      "Minibatch 2500: Average Loss = 37.7002\n",
      "Minibatch 3000: Average Loss = 44.9993\n",
      "Minibatch 3500: Average Loss = 46.6306\n",
      "Minibatch 4000: Average Loss = 52.5958\n",
      "Minibatch 4500: Average Loss = 84.0237\n",
      "Minibatch 5000: Average Loss = 34.1844\n",
      "Minibatch 5500: Average Loss = 16.7190\n",
      "Minibatch 6000: Average Loss = 20.1105\n",
      "Minibatch 6500: Average Loss = 12.4809\n",
      "Minibatch 7000: Average Loss = 37.5271\n",
      "Minibatch 7500: Average Loss = 150.1719\n",
      "Minibatch 8000: Average Loss = 26.9058\n",
      "Minibatch 8500: Average Loss = 144.5658\n",
      "Minibatch 9000: Average Loss = 24.1921\n"
     ]
    }
   ],
   "source": [
    "from collections import defaultdict\n",
    "\n",
    "progress_output_freq = 500\n",
    "training_plotdata = defaultdict(list)\n",
    "\n",
    "training_features = features[:training_size]\n",
    "training_labels = labels[:training_size]\n",
    "\n",
    "for i in range(num_training_minibatches):\n",
    "    start_index = i * minibatch_size\n",
    "    end_index = start_index + minibatch_size\n",
    "    feature_batch = training_features[start_index : end_index]\n",
    "    label_batch = training_labels[start_index : end_index]\n",
    "    \n",
    "    trainer.train_minibatch({input_var : feature_batch, label : label_batch})\n",
    "    \n",
    "    mb_num, loss = print_progress(trainer, i, progress_output_freq)\n",
    "    if loss != \"NA\":\n",
    "        training_plotdata[\"Batch Number\"].append(mb_num)\n",
    "        training_plotdata[\"Loss\"].append(loss)"
   ]
  },
  {
   "cell_type": "code",
   "execution_count": 193,
   "metadata": {
    "collapsed": true
   },
   "outputs": [],
   "source": [
    "test_minibatch_size = minibatch_size\n",
    "testing_features = features[training_size:]\n",
    "testing_labels = labels[training_size:]\n",
    "num_testing_minibatches = (num_samples - training_size) // test_minibatch_size\n",
    "\n",
    "testing_plotdata = defaultdict(list)\n",
    "\n",
    "for i in range(num_testing_minibatches):\n",
    "    start_index = i * test_minibatch_size\n",
    "    end_index = start_index + test_minibatch_size\n",
    "    feature_batch = testing_features[start_index : end_index]\n",
    "    label_batch = testing_labels[start_index : end_index]\n",
    "    \n",
    "    eval_error = trainer.test_minibatch({input_var : feature_batch, label : label_batch})\n",
    "    \n",
    "    if eval_error != \"NA\":\n",
    "        testing_plotdata[\"Batch Number\"].append(i)\n",
    "        testing_plotdata[\"Loss\"].append(eval_error)"
   ]
  },
  {
   "cell_type": "code",
   "execution_count": 207,
   "metadata": {},
   "outputs": [
    {
     "data": {
      "image/png": "[encoded data removed]",
      "text/plain": [
       "<matplotlib.figure.Figure at 0x2bd0b027e80>"
      ]
     },
     "metadata": {},
     "output_type": "display_data"
    },
    {
     "name": "stdout",
     "output_type": "stream",
     "text": [
      "Average Training Loss = 65.35\n"
     ]
    },
    {
     "data": {
      "image/png": "[encoded data removed]",
      "text/plain": [
       "<matplotlib.figure.Figure at 0x2bd184d7198>"
      ]
     },
     "metadata": {},
     "output_type": "display_data"
    },
    {
     "name": "stdout",
     "output_type": "stream",
     "text": [
      "Average Testing Loss = 56.05\n"
     ]
    },
    {
     "data": {
      "image/png": "[encoded data removed]",
      "text/plain": [
       "<matplotlib.figure.Figure at 0x2bd0a580588>"
      ]
     },
     "metadata": {},
     "output_type": "display_data"
    }
   ],
   "source": [
    "import matplotlib.pyplot as plt\n",
    "%matplotlib inline\n",
    "\n",
    "training_plotdata[\"Average Loss\"] = moving_average(training_plotdata[\"Loss\"])\n",
    "testing_plotdata[\"Average Loss\"] = moving_average(testing_plotdata[\"Loss\"])\n",
    "\n",
    "plt.plot(training_plotdata[\"Batch Number\"], training_plotdata[\"Average Loss\"])\n",
    "plt.title(\"Training Loss\")\n",
    "plt.xlabel(\"Minibatch Number\")\n",
    "plt.ylabel(\"Loss\")\n",
    "plt.show()\n",
    "\n",
    "print(\"Average Training Loss = {0:.2f}\".format(training_plotdata[\"Average Loss\"][-1]))\n",
    "\n",
    "plt.scatter(testing_plotdata[\"Batch Number\"], testing_plotdata[\"Loss\"])\n",
    "plt.title(\"Testing Loss\")\n",
    "plt.xlabel(\"Minibatch Number\")\n",
    "plt.ylabel(\"Loss\")\n",
    "plt.show()\n",
    "\n",
    "print(\"Average Testing Loss = {0:.2f}\".format(testing_plotdata[\"Average Loss\"][-1]))\n",
    "\n",
    "plt.subplot(2, 1, 2)\n",
    "plt.boxplot(testing_plotdata[\"Loss\"], vert = False)\n",
    "plt.title(\"Testing Loss\")\n",
    "plt.xlabel(\"Minibatch Average Loss\")\n",
    "plt.show()"
   ]
  },
  {
   "cell_type": "code",
   "execution_count": 188,
   "metadata": {},
   "outputs": [
    {
     "name": "stdout",
     "output_type": "stream",
     "text": [
      "25\n"
     ]
    }
   ],
   "source": [
    "print(test_minibatch_size)"
   ]
  },
  {
   "cell_type": "code",
   "execution_count": null,
   "metadata": {
    "collapsed": true
   },
   "outputs": [],
   "source": []
  }
 ],
 "metadata": {
  "kernelspec": {
   "display_name": "Python 3",
   "language": "python",
   "name": "python3"
  },
  "language_info": {
   "codemirror_mode": {
    "name": "ipython",
    "version": 3
   },
   "file_extension": ".py",
   "mimetype": "text/x-python",
   "name": "python",
   "nbconvert_exporter": "python",
   "pygments_lexer": "ipython3",
   "version": "3.6.1"
  }
 },
 "nbformat": 4,
 "nbformat_minor": 1
}
