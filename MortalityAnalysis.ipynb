{
 "cells": [
  {
   "cell_type": "markdown",
   "metadata": {},
   "source": [
    "# Mortality Analysis\n",
    "Analyze data from the National Notifiable Diseases Surveillance System on [deaths by pneumonia and influenza](https://www.healthdata.gov/dataset/nndss-table-ii-invasive-pneumococcal-diseases-all-ages) in 122 cities."
   ]
  },
  {
   "cell_type": "code",
   "execution_count": 44,
   "metadata": {
    "collapsed": false
   },
   "outputs": [],
   "source": [
    "import numpy as np\n",
    "from scipy import stats\n",
    "import cntk as C"
   ]
  },
  {
   "cell_type": "code",
   "execution_count": 45,
   "metadata": {
    "collapsed": true
   },
   "outputs": [],
   "source": [
    "dataPath = \"source.csv\"\n",
    "data = np.genfromtxt(dataPath, delimiter = \",\", dtype = str)"
   ]
  },
  {
   "cell_type": "code",
   "execution_count": 46,
   "metadata": {
    "collapsed": false
   },
   "outputs": [
    {
     "name": "stdout",
     "output_type": "stream",
     "text": [
      "['11' '11' '5' ..., '2' '12' '11']\n"
     ]
    }
   ],
   "source": [
    "deaths = data[1:, 6]\n",
    "print(deaths)\n",
    "\n",
    "non_blanks = []\n",
    "for i in range(len(deaths)):\n",
    "    if deaths[i] != \"\":\n",
    "        non_blanks.append(i)\n",
    "        \n",
    "deaths = deaths[non_blanks]\n",
    "years = stats.zscore( (data[1:, 0])[non_blanks].astype(np.float32))\n",
    "winter = np.asarray( [1.0 if (week < 7 or 47 < week) else 0.0 for week in data[1:, 1].astype(int)], dtype = np.float32 )\n",
    "winter = winter[non_blanks]"
   ]
  },
  {
   "cell_type": "code",
   "execution_count": 47,
   "metadata": {
    "collapsed": false
   },
   "outputs": [],
   "source": [
    "def shuffle_arrays(*arrays):\n",
    "    rand_state = np.random.get_state()\n",
    "    for array in arrays:\n",
    "        np.random.set_state(rand_state)\n",
    "        np.random.shuffle(array)\n",
    "\n",
    "shuffle_arrays(years, winter, deaths)"
   ]
  },
  {
   "cell_type": "code",
   "execution_count": 48,
   "metadata": {
    "collapsed": false
   },
   "outputs": [],
   "source": [
    "num_samples = len(years)\n",
    "training_size = num_samples * 2 // 3;\n"
   ]
  },
  {
   "cell_type": "code",
   "execution_count": 49,
   "metadata": {
    "collapsed": true
   },
   "outputs": [],
   "source": [
    "num_features = 2\n",
    "num_classes = 1 #Do I even need this, since this is a regression problem?\n",
    "input_var = C.input_variable(num_features, np.float32)"
   ]
  },
  {
   "cell_type": "code",
   "execution_count": 50,
   "metadata": {
    "collapsed": false
   },
   "outputs": [],
   "source": [
    "parm_dict = {}\n",
    "def linear_layer(input_var, num_output_classes):\n",
    "    \n",
    "    n = input_var.shape[0]\n",
    "    \n",
    "    weights = C.parameter(shape = (input_var.shape[0], num_output_classes))\n",
    "    biases = C.parameter(shape = (num_output_classes))\n",
    "    \n",
    "    return C.times(input_var, weights) + biases"
   ]
  },
  {
   "cell_type": "code",
   "execution_count": 51,
   "metadata": {
    "collapsed": false
   },
   "outputs": [],
   "source": [
    "z = linear_layer(input_var, num_classes)\n",
    "label = C.input_variable(num_classes, np.float32)\n",
    "loss = C.squared_error(z, label)"
   ]
  },
  {
   "cell_type": "code",
   "execution_count": 56,
   "metadata": {
    "collapsed": false
   },
   "outputs": [
    {
     "ename": "TypeError",
     "evalue": "'module' object is not callable",
     "output_type": "error",
     "traceback": [
      "\u001b[1;31m---------------------------------------------------------------------------\u001b[0m",
      "\u001b[1;31mTypeError\u001b[0m                                 Traceback (most recent call last)",
      "\u001b[1;32m<ipython-input-56-04936b2aecad>\u001b[0m in \u001b[0;36m<module>\u001b[1;34m()\u001b[0m\n\u001b[0;32m      5\u001b[0m \u001b[0mlearner\u001b[0m \u001b[1;33m=\u001b[0m \u001b[0mC\u001b[0m\u001b[1;33m.\u001b[0m\u001b[0msgd\u001b[0m\u001b[1;33m(\u001b[0m\u001b[0mz\u001b[0m\u001b[1;33m.\u001b[0m\u001b[0mparameters\u001b[0m\u001b[1;33m,\u001b[0m \u001b[0mlr_schedule\u001b[0m\u001b[1;33m)\u001b[0m\u001b[1;33m\u001b[0m\u001b[0m\n\u001b[0;32m      6\u001b[0m \u001b[1;33m\u001b[0m\u001b[0m\n\u001b[1;32m----> 7\u001b[1;33m \u001b[0mtrainer\u001b[0m \u001b[1;33m=\u001b[0m \u001b[0mC\u001b[0m\u001b[1;33m.\u001b[0m\u001b[0mtrainer\u001b[0m\u001b[1;33m(\u001b[0m\u001b[0mz\u001b[0m\u001b[1;33m,\u001b[0m \u001b[1;33m(\u001b[0m\u001b[0mloss\u001b[0m\u001b[1;33m)\u001b[0m\u001b[1;33m,\u001b[0m \u001b[1;33m[\u001b[0m\u001b[0mlearner\u001b[0m\u001b[1;33m]\u001b[0m\u001b[1;33m)\u001b[0m\u001b[1;33m\u001b[0m\u001b[0m\n\u001b[0m",
      "\u001b[1;31mTypeError\u001b[0m: 'module' object is not callable"
     ]
    }
   ],
   "source": [
    "learning_rate = 0.5\n",
    "minibatch_size = 25\n",
    "\n",
    "lr_schedule = C.learning_rate_schedule(learning_rate, C.UnitType.minibatch)\n",
    "learner = C.sgd(z.parameters, lr_schedule)\n",
    "\n",
    "trainer = C.trainer(z, (loss), [learner])"
   ]
  },
  {
   "cell_type": "code",
   "execution_count": 57,
   "metadata": {
    "collapsed": false
   },
   "outputs": [
    {
     "name": "stdout",
     "output_type": "stream",
     "text": [
      "Composite(Tensor[2]) -> Tensor[1]\n",
      "<class 'cntk.ops.functions.Function'>\n",
      "Composite(Tensor[2], Tensor[1]) -> np.float32\n",
      "<class 'cntk.ops.functions.Function'>\n",
      "<cntk.learners.Learner; proxy of <Swig Object of type 'CNTK::LearnerPtr *' at 0x000001ADE5A04DB0> >\n",
      "<class 'cntk.learners.Learner'>\n"
     ]
    }
   ],
   "source": [
    "print(z)\n",
    "print(type(z))\n",
    "print(loss)\n",
    "print(type(loss))\n",
    "print(learner)\n",
    "print(type(learner))"
   ]
  },
  {
   "cell_type": "code",
   "execution_count": null,
   "metadata": {
    "collapsed": true
   },
   "outputs": [],
   "source": []
  }
 ],
 "metadata": {
  "kernelspec": {
   "display_name": "Python [Root]",
   "language": "python",
   "name": "Python [Root]"
  },
  "language_info": {
   "codemirror_mode": {
    "name": "ipython",
    "version": 3
   },
   "file_extension": ".py",
   "mimetype": "text/x-python",
   "name": "python",
   "nbconvert_exporter": "python",
   "pygments_lexer": "ipython3",
   "version": "3.5.2"
  }
 },
 "nbformat": 4,
 "nbformat_minor": 0
}
